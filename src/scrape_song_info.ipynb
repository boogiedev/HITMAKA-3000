{
 "cells": [
  {
   "cell_type": "code",
   "execution_count": 175,
   "metadata": {},
   "outputs": [
    {
     "name": "stdout",
     "output_type": "stream",
     "text": [
      "The autoreload extension is already loaded. To reload it, use:\n",
      "  %reload_ext autoreload\n"
     ]
    }
   ],
   "source": [
    "# Auto Reload\n",
    "%load_ext autoreload\n",
    "%autoreload 2"
   ]
  },
  {
   "cell_type": "code",
   "execution_count": 2,
   "metadata": {},
   "outputs": [],
   "source": [
    "# Import Modules\n",
    "import numpy as np\n",
    "import copy\n",
    "import pandas as pd\n",
    "import json\n",
    "import requests\n",
    "from bs4 import BeautifulSoup\n",
    "from pprint import pprint"
   ]
  },
  {
   "cell_type": "code",
   "execution_count": 177,
   "metadata": {},
   "outputs": [],
   "source": [
    "# Import Custom Modules\n",
    "from webscrape import *\n",
    "from helpers import *"
   ]
  },
  {
   "cell_type": "code",
   "execution_count": 4,
   "metadata": {},
   "outputs": [],
   "source": [
    "# Create Dictionaries by Year with Empty DataFrame as Vaule\n",
    "top_charts = {\n",
    "    2015: pd.DataFrame(),\n",
    "    2016: pd.DataFrame(),\n",
    "    2017: pd.DataFrame(),\n",
    "    2018: pd.DataFrame(),\n",
    "    2019: pd.DataFrame(),\n",
    "}"
   ]
  },
  {
   "cell_type": "code",
   "execution_count": 5,
   "metadata": {},
   "outputs": [],
   "source": [
    "# 2019 Info\n",
    "top_songs_2019 = get_top_songs(2019)\n",
    "top_2019 = [get_full_lyrics(song, artist) for song, artist, rank in top_songs_2019]"
   ]
  },
  {
   "cell_type": "code",
   "execution_count": 6,
   "metadata": {},
   "outputs": [],
   "source": [
    "# 2018 Info\n",
    "top_songs_2018 = get_top_songs(2018)\n",
    "top_2018 = [get_full_lyrics(song, artist) for song, artist, rank in top_songs_2018]"
   ]
  },
  {
   "cell_type": "code",
   "execution_count": 7,
   "metadata": {},
   "outputs": [],
   "source": [
    "# 2017 Info\n",
    "top_songs_2017 = get_top_songs(2017)\n",
    "top_2017 = [get_full_lyrics(song, artist) for song, artist, rank in top_songs_2017]"
   ]
  },
  {
   "cell_type": "code",
   "execution_count": 8,
   "metadata": {},
   "outputs": [],
   "source": [
    "# 2016 Info\n",
    "top_songs_2016 = get_top_songs(2016)\n",
    "top_2016 = [get_full_lyrics(song, artist) for song, artist, rank in top_songs_2016]"
   ]
  },
  {
   "cell_type": "code",
   "execution_count": 31,
   "metadata": {},
   "outputs": [],
   "source": [
    "# 2015 Info\n",
    "top_songs_2015 = get_top_songs(2015)\n",
    "top_2015 = [get_full_lyrics(song, artist.partition('Featuring')[0]) for song, artist, rank in top_songs_2015]"
   ]
  },
  {
   "cell_type": "code",
   "execution_count": 78,
   "metadata": {},
   "outputs": [],
   "source": [
    "# Year list\n",
    "years = [2015, 2016, 2017, 2018, 2019]\n",
    "# List of top song tuples by year\n",
    "top_songs_list = [top_songs_2015, top_songs_2016, top_songs_2017, top_songs_2018, top_songs_2019]\n",
    "# List of top song lyrics by year\n",
    "top_lyrics_list = [top_2015, top_2016, top_2017, top_2018, top_2019]"
   ]
  },
  {
   "cell_type": "code",
   "execution_count": 80,
   "metadata": {},
   "outputs": [],
   "source": [
    "# Create DataFrame\n",
    "df = pd.DataFrame(\n",
    "        columns=['song', 'artist', 'rank', 'year', 'lyrics'],\n",
    ")"
   ]
  },
  {
   "cell_type": "code",
   "execution_count": 81,
   "metadata": {},
   "outputs": [],
   "source": [
    "for year, info, lyrics in zip(years, top_songs_list, top_lyrics_list):\n",
    "    x = pd.DataFrame(\n",
    "        data=[[*info[x], year, lyrics[x]] for x in range(len(info))],\n",
    "        columns=['song', 'artist', 'rank', 'year', 'lyrics'],)\n",
    "\n",
    "    df = df.append(x, ignore_index=True)\n"
   ]
  },
  {
   "cell_type": "code",
   "execution_count": 85,
   "metadata": {},
   "outputs": [
    {
     "name": "stdout",
     "output_type": "stream",
     "text": [
      "<class 'pandas.core.frame.DataFrame'>\n",
      "RangeIndex: 250 entries, 0 to 249\n",
      "Data columns (total 5 columns):\n",
      "song      250 non-null object\n",
      "artist    250 non-null object\n",
      "rank      250 non-null object\n",
      "year      250 non-null object\n",
      "lyrics    250 non-null object\n",
      "dtypes: object(5)\n",
      "memory usage: 4.9+ KB\n"
     ]
    }
   ],
   "source": [
    "df.info()"
   ]
  },
  {
   "cell_type": "code",
   "execution_count": 184,
   "metadata": {},
   "outputs": [],
   "source": [
    "title, artist = df['song'][247], df['artist'][247]"
   ]
  },
  {
   "cell_type": "code",
   "execution_count": 185,
   "metadata": {},
   "outputs": [],
   "source": [
    "response = get_extract_response(title, artist)"
   ]
  },
  {
   "cell_type": "code",
   "execution_count": 194,
   "metadata": {},
   "outputs": [],
   "source": [
    "# response"
   ]
  },
  {
   "cell_type": "code",
   "execution_count": 193,
   "metadata": {},
   "outputs": [
    {
     "data": {
      "text/plain": [
       "\"(I want a slim, fine woman with some twerk with her)\\nThrow that, twerk that\\n(I want a slim, fine woman with some twerk with her)\\nShake that, bounce that\\n(I want a slim, fine woman with some twerk with her)\\nCardi\\nAyy, ayy, ayy, ayy, ayy, ayy, ayy\\n(I want a slim, fine woman with some twerk with her)\\n(Action)\\n\\nDo it, baby, stick it, baby\\nMove it, baby, lick it, baby (Do it)\\nSuck up on that clit until that pussy got a hickey, baby (Bounce)\\nWatch big, coulda bought a Range Rover (Range Rover)\\nChain little, but I spent some change on it (Change on it)\\nNigga mad, I'ma put the gang on him (Gang on it)\\nThey'll die 'bout me, they'll bang on him (Facts)\\nAnd that ass poke out, lil frame on her (Ow)\\nPussy so good he got my name on it (Miami)\\nItty-bitty-pretty, I'm the realest in the city\\nOnly fuckin' with the plug, got a nigga worth a billi'\\nShowin' love, only talk about bands when he hit me\\nChose him, he ain't pick me, and we never doin' quickies\\n\\n(I want a slim, fine woman with some twerk with her)\\nWork that\\n(I want a slim, fine woman with some twerk with her)\\nWork that\\n(I want a slim, fine woman with some twerk with her)\\nPlease\\n(I want a slim, fine woman with some twerk with her)\\nMake 'em dance, twerk\\n(Twerk-twerk-twerk-twerk-twerk-twerk with her)\\nTwerk, twerk\\n(Tw-twerk-twerk-twerk-twerk-twerk-twerk with her)\\nTwerk, twerk\\n(Tw-twerk-twerk-twerk-twerk-twerk-twerk with her)\\nTwerk, twerk\\n(Tw-twerk-twerk-twerk-twerk-twerk with her)\\nTwerk\\n(Turn the lights off!)\\n\\nLook, this sound like Cardi took the stage (Cardi)\\nThis sound like Cardi with the braids (With the braids)\\nJermaine Dupri, baby, money ain't a thing (Ain't a thing)\\nThis pussy wild, they should throw it in a cage (Grr)\\nSee my lifestyle, precise gal (Gal)\\nI be dripped up and wiped down, uh\\nI see them hoes lookin' cold, lookin' stiff, uh\\nThick bitch God's gift to a dick, woo (Woo)\\nDrop low, look back, shit fat, shit fat\\nI just drop-kicked your bag, six pack, six pack\\nI just jumps on hit charts, impact, impact\\nStop that chit-chat, get smacked, bitch better relax\\n\\n(I want a slim, fine woman with some twerk with her)\\nWork that\\n(I want a slim, fine woman with some twerk with her)\\nWork that\\n(I want a slim, fine woman with some twerk with her)\\nPlease\\n(I want a slim, fine woman with some twerk with her)\\nMake 'em dance, twerk\\n(Twerk-twerk-twerk-twerk-twerk-twerk with her)\\nTwerk, twerk\\n(Tw-twerk-twerk-twerk-twerk-twerk-twerk with her)\\nTwerk, twerk\\n(Tw-twerk-twerk-twerk-twerk-twerk-twerk with her)\\nTwerk, twerk\\n(Tw-twerk-twerk-twerk-twerk-twerk with her)\\nTwerk\\n(Turn the lights off!)\\n\\nYeah, I see you show that, but is you gon' throw that?\\nIf you don't let me hold that, you know where the door at (Bye)\\nLil flexin' ass nigga, what is that shit? (What the fuck is that?)\\nMust have me confused for a rap bitch (Hol' up)\\nToo rude for a soft nigga, need a boss nigga\\nFloss nigga who don't give a fuck what it cost, nigga (Boss)\\nI could buy my own, but I'd rather spend y'all's, niggas\\nTell them pussy-ass hoes I don't want y'all niggas\\nGot a penthouse up in the Mandarin (Ow)\\nSo when you get this pussy, better handle it (Catch it)\\nI'm a top-notch bitch, need some top-notch dick\\nSmooth like a G5 when you landing it\\n\\n(I want a slim, fine woman with some twerk with her)\\nWork that\\n(I want a slim, fine woman with some twerk with her)\\nWork that\\n(I want a slim, fine woman with some twerk with her)\\nPlease\\n(I want a slim, fine woman with some twerk with her)\\nMake 'em dance, twerk\\n(Twerk-twerk-twerk-twerk-twerk-twerk with her)\\nTwerk, twerk\\n(Tw-twerk-twerk-twerk-twerk-twerk-twerk with her)\\nTwerk, twerk\\n(Tw-twerk-twerk-twerk-twerk-twerk-twerk with her)\\nTwerk, twerk\\n(Tw-twerk-twerk-twerk-twerk-twerk with her)\\nTwerk\\n(Turn the lights off!)\""
      ]
     },
     "execution_count": 193,
     "metadata": {},
     "output_type": "execute_result"
    }
   ],
   "source": [
    "scrape_song_lyrics_from_url(response)"
   ]
  }
 ],
 "metadata": {
  "kernelspec": {
   "display_name": "Python 3",
   "language": "python",
   "name": "python3"
  },
  "language_info": {
   "codemirror_mode": {
    "name": "ipython",
    "version": 3
   },
   "file_extension": ".py",
   "mimetype": "text/x-python",
   "name": "python",
   "nbconvert_exporter": "python",
   "pygments_lexer": "ipython3",
   "version": "3.7.3"
  }
 },
 "nbformat": 4,
 "nbformat_minor": 4
}
