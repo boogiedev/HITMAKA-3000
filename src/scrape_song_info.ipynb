{
 "cells": [
  {
   "cell_type": "code",
   "execution_count": 1,
   "metadata": {},
   "outputs": [],
   "source": [
    "# Auto Reload\n",
    "%load_ext autoreload\n",
    "%autoreload 2"
   ]
  },
  {
   "cell_type": "code",
   "execution_count": 2,
   "metadata": {},
   "outputs": [],
   "source": [
    "# Import Modules\n",
    "import numpy as np\n",
    "import copy\n",
    "import pandas as pd\n",
    "import json\n",
    "import requests\n",
    "from bs4 import BeautifulSoup\n",
    "from pprint import pprint"
   ]
  },
  {
   "cell_type": "code",
   "execution_count": 3,
   "metadata": {},
   "outputs": [],
   "source": [
    "# Import Custom Modules\n",
    "from webscrape import *\n",
    "from helpers import *"
   ]
  },
  {
   "cell_type": "code",
   "execution_count": 4,
   "metadata": {},
   "outputs": [],
   "source": [
    "# 2019 Info\n",
    "top_songs_2019 = get_top_songs(2019)"
   ]
  },
  {
   "cell_type": "code",
   "execution_count": 5,
   "metadata": {},
   "outputs": [],
   "source": [
    "# 2018 Info\n",
    "top_songs_2018 = get_top_songs(2018)"
   ]
  },
  {
   "cell_type": "code",
   "execution_count": 6,
   "metadata": {},
   "outputs": [],
   "source": [
    "# 2017 Info\n",
    "top_songs_2017 = get_top_songs(2017)"
   ]
  },
  {
   "cell_type": "code",
   "execution_count": 7,
   "metadata": {},
   "outputs": [],
   "source": [
    "# 2016 Info\n",
    "top_songs_2016 = get_top_songs(2016)"
   ]
  },
  {
   "cell_type": "code",
   "execution_count": 8,
   "metadata": {},
   "outputs": [],
   "source": [
    "# 2015 Info\n",
    "top_songs_2015 = get_top_songs(2015)"
   ]
  },
  {
   "cell_type": "code",
   "execution_count": 9,
   "metadata": {},
   "outputs": [],
   "source": [
    "# Year list\n",
    "years = [2015, 2016, 2017, 2018, 2019]\n",
    "# List of top song tuples by year\n",
    "top_songs_list = [top_songs_2015, top_songs_2016, top_songs_2017, top_songs_2018, top_songs_2019]"
   ]
  },
  {
   "cell_type": "code",
   "execution_count": 29,
   "metadata": {},
   "outputs": [],
   "source": [
    "# Create DataFrame\n",
    "df = pd.DataFrame(\n",
    "        columns=['song', 'artist', 'featured', 'rank', 'year'],\n",
    ")"
   ]
  },
  {
   "cell_type": "code",
   "execution_count": 31,
   "metadata": {},
   "outputs": [],
   "source": [
    "# Populate Dataframe\n",
    "for year, info in zip(years, top_songs_list):\n",
    "    x = pd.DataFrame(\n",
    "        data=[[*info[x], year] for x in range(len(info))],\n",
    "        columns=['song', 'artist', 'featured', 'rank', 'year'])\n",
    "    df = df.append(x, ignore_index=True)\n"
   ]
  },
  {
   "cell_type": "code",
   "execution_count": 32,
   "metadata": {},
   "outputs": [
    {
     "data": {
      "text/html": [
       "<div>\n",
       "<style scoped>\n",
       "    .dataframe tbody tr th:only-of-type {\n",
       "        vertical-align: middle;\n",
       "    }\n",
       "\n",
       "    .dataframe tbody tr th {\n",
       "        vertical-align: top;\n",
       "    }\n",
       "\n",
       "    .dataframe thead th {\n",
       "        text-align: right;\n",
       "    }\n",
       "</style>\n",
       "<table border=\"1\" class=\"dataframe\">\n",
       "  <thead>\n",
       "    <tr style=\"text-align: right;\">\n",
       "      <th></th>\n",
       "      <th>song</th>\n",
       "      <th>artist</th>\n",
       "      <th>featured</th>\n",
       "      <th>rank</th>\n",
       "      <th>year</th>\n",
       "    </tr>\n",
       "  </thead>\n",
       "  <tbody>\n",
       "    <tr>\n",
       "      <th>0</th>\n",
       "      <td>See You Again</td>\n",
       "      <td>Wiz Khalifa</td>\n",
       "      <td></td>\n",
       "      <td>1</td>\n",
       "      <td>2015</td>\n",
       "    </tr>\n",
       "    <tr>\n",
       "      <th>1</th>\n",
       "      <td>Trap Queen</td>\n",
       "      <td>Fetty Wap</td>\n",
       "      <td></td>\n",
       "      <td>2</td>\n",
       "      <td>2015</td>\n",
       "    </tr>\n",
       "    <tr>\n",
       "      <th>2</th>\n",
       "      <td>Watch Me</td>\n",
       "      <td>Silento</td>\n",
       "      <td></td>\n",
       "      <td>3</td>\n",
       "      <td>2015</td>\n",
       "    </tr>\n",
       "    <tr>\n",
       "      <th>3</th>\n",
       "      <td>679</td>\n",
       "      <td>Fetty Wap</td>\n",
       "      <td></td>\n",
       "      <td>4</td>\n",
       "      <td>2015</td>\n",
       "    </tr>\n",
       "    <tr>\n",
       "      <th>4</th>\n",
       "      <td>Hotline Bling</td>\n",
       "      <td>Drake</td>\n",
       "      <td></td>\n",
       "      <td>5</td>\n",
       "      <td>2015</td>\n",
       "    </tr>\n",
       "  </tbody>\n",
       "</table>\n",
       "</div>"
      ],
      "text/plain": [
       "            song        artist featured rank  year\n",
       "0  See You Again  Wiz Khalifa              1  2015\n",
       "1     Trap Queen     Fetty Wap             2  2015\n",
       "2       Watch Me       Silento             3  2015\n",
       "3            679    Fetty Wap              4  2015\n",
       "4  Hotline Bling         Drake             5  2015"
      ]
     },
     "execution_count": 32,
     "metadata": {},
     "output_type": "execute_result"
    }
   ],
   "source": [
    "# df.info()\n",
    "df.head()"
   ]
  },
  {
   "cell_type": "code",
   "execution_count": null,
   "metadata": {},
   "outputs": [],
   "source": [
    "responses, lyrics = [], []\n",
    "for song, artist in zip(df['song'], df['artist']):\n",
    "    res = \"\"\n",
    "    try:\n",
    "        response = get_extract_response(song, artist)\n",
    "        if not response:\n",
    "            response = get_extract_response(song, '')\n",
    "        res = scrape_song_lyrics_from_url(response)\n",
    "    except:\n",
    "        pass\n",
    "    responses.append(response)\n",
    "    lyrics.append(res)"
   ]
  },
  {
   "cell_type": "code",
   "execution_count": null,
   "metadata": {},
   "outputs": [],
   "source": [
    "# Create Series for each feature\n",
    "lyric_state = pd.Series([response['result']['lyrics_state'] for response in responses]) \n",
    "song_id =  pd.Series([response['result']['id'] for response in responses])\n",
    "lyric_owner_id = pd.Series([response['result']['lyric_owner_id'] for response in responses])"
   ]
  },
  {
   "cell_type": "code",
   "execution_count": null,
   "metadata": {},
   "outputs": [],
   "source": [
    "# Create More Features for Each Song ['lyrics_state', 'id', 'lyric_owner_id']\n",
    "\n",
    "# Match Lyrics To Song\n",
    "df['lyrics'] = pd.Series(lyrics)\n",
    "\n",
    "# Match Lyric State To Song\n",
    "df['lyric_state'] = pd.Series(lyric_state)\n",
    "\n",
    "# Match song id To Song\n",
    "df['song_id'] = pd.Series(song_id)\n",
    "\n",
    "# Match lyric owner To Song\n",
    "df['lyric_owner_id'] = pd.Series(lyric_owner_id)\n"
   ]
  },
  {
   "cell_type": "code",
   "execution_count": null,
   "metadata": {},
   "outputs": [],
   "source": [
    "# for x in range(len(lyrics)):\n",
    "#     if not lyrics[x]:\n",
    "#         print(x)\n",
    "# song, artist = df.iloc[185]['song'], df.iloc[185]['artist']\n",
    "# get_extract_response(song, \"\")"
   ]
  },
  {
   "cell_type": "code",
   "execution_count": 44,
   "metadata": {},
   "outputs": [
    {
     "data": {
      "text/html": [
       "<div>\n",
       "<style scoped>\n",
       "    .dataframe tbody tr th:only-of-type {\n",
       "        vertical-align: middle;\n",
       "    }\n",
       "\n",
       "    .dataframe tbody tr th {\n",
       "        vertical-align: top;\n",
       "    }\n",
       "\n",
       "    .dataframe thead th {\n",
       "        text-align: right;\n",
       "    }\n",
       "</style>\n",
       "<table border=\"1\" class=\"dataframe\">\n",
       "  <thead>\n",
       "    <tr style=\"text-align: right;\">\n",
       "      <th></th>\n",
       "      <th>song</th>\n",
       "      <th>artist</th>\n",
       "      <th>featured</th>\n",
       "      <th>rank</th>\n",
       "      <th>year</th>\n",
       "      <th>lyrics</th>\n",
       "    </tr>\n",
       "  </thead>\n",
       "  <tbody>\n",
       "    <tr>\n",
       "      <th>0</th>\n",
       "      <td>See You Again</td>\n",
       "      <td>Wiz Khalifa</td>\n",
       "      <td></td>\n",
       "      <td>1</td>\n",
       "      <td>2015</td>\n",
       "      <td>It's been a long day without you, my friend\\nA...</td>\n",
       "    </tr>\n",
       "    <tr>\n",
       "      <th>1</th>\n",
       "      <td>Trap Queen</td>\n",
       "      <td>Fetty Wap</td>\n",
       "      <td></td>\n",
       "      <td>2</td>\n",
       "      <td>2015</td>\n",
       "      <td>RGF productions\\nRemy Boyz, yah-ah\\n1738, ayy\\...</td>\n",
       "    </tr>\n",
       "    <tr>\n",
       "      <th>2</th>\n",
       "      <td>Watch Me</td>\n",
       "      <td>Silento</td>\n",
       "      <td></td>\n",
       "      <td>3</td>\n",
       "      <td>2015</td>\n",
       "      <td>Whip, nae nae\\nWhip, whip, nae nae\\nWhip, nae ...</td>\n",
       "    </tr>\n",
       "    <tr>\n",
       "      <th>3</th>\n",
       "      <td>679</td>\n",
       "      <td>Fetty Wap</td>\n",
       "      <td></td>\n",
       "      <td>4</td>\n",
       "      <td>2015</td>\n",
       "      <td>Yeaaah baby, 17\\n(RemyBoy Lifestyle)\\nAy, ay, ...</td>\n",
       "    </tr>\n",
       "    <tr>\n",
       "      <th>4</th>\n",
       "      <td>Hotline Bling</td>\n",
       "      <td>Drake</td>\n",
       "      <td></td>\n",
       "      <td>5</td>\n",
       "      <td>2015</td>\n",
       "      <td>You used to call me on my\\nYou used to, you us...</td>\n",
       "    </tr>\n",
       "    <tr>\n",
       "      <th>...</th>\n",
       "      <td>...</td>\n",
       "      <td>...</td>\n",
       "      <td>...</td>\n",
       "      <td>...</td>\n",
       "      <td>...</td>\n",
       "      <td>...</td>\n",
       "    </tr>\n",
       "    <tr>\n",
       "      <th>245</th>\n",
       "      <td>Press</td>\n",
       "      <td>Cardi B</td>\n",
       "      <td></td>\n",
       "      <td>46</td>\n",
       "      <td>2019</td>\n",
       "      <td>Monsta's gon' tear it up\\nBardi\\nWoo, yeah\\nBi...</td>\n",
       "    </tr>\n",
       "    <tr>\n",
       "      <th>246</th>\n",
       "      <td>Backin' It Up</td>\n",
       "      <td>Pardison Fontaine</td>\n",
       "      <td></td>\n",
       "      <td>47</td>\n",
       "      <td>2019</td>\n",
       "      <td>Ahhh\\nCardi!\\nTurn around, fuck it all the way...</td>\n",
       "    </tr>\n",
       "    <tr>\n",
       "      <th>247</th>\n",
       "      <td>Twerk</td>\n",
       "      <td>City Girls</td>\n",
       "      <td></td>\n",
       "      <td>48</td>\n",
       "      <td>2019</td>\n",
       "      <td>(I want a slim, fine woman with some twerk wit...</td>\n",
       "    </tr>\n",
       "    <tr>\n",
       "      <th>248</th>\n",
       "      <td>Time</td>\n",
       "      <td>NF</td>\n",
       "      <td></td>\n",
       "      <td>49</td>\n",
       "      <td>2019</td>\n",
       "      <td>Even if we both break down tonight\\nAnd you sa...</td>\n",
       "    </tr>\n",
       "    <tr>\n",
       "      <th>249</th>\n",
       "      <td>Mixed Personalities</td>\n",
       "      <td>YNW Melly</td>\n",
       "      <td></td>\n",
       "      <td>50</td>\n",
       "      <td>2019</td>\n",
       "      <td>Because I am hard, you will not like me\\n\\nSay...</td>\n",
       "    </tr>\n",
       "  </tbody>\n",
       "</table>\n",
       "<p>250 rows × 6 columns</p>\n",
       "</div>"
      ],
      "text/plain": [
       "                    song              artist featured rank  year  \\\n",
       "0          See You Again        Wiz Khalifa              1  2015   \n",
       "1             Trap Queen           Fetty Wap             2  2015   \n",
       "2               Watch Me             Silento             3  2015   \n",
       "3                    679          Fetty Wap              4  2015   \n",
       "4          Hotline Bling               Drake             5  2015   \n",
       "..                   ...                 ...      ...  ...   ...   \n",
       "245                Press             Cardi B            46  2019   \n",
       "246        Backin' It Up  Pardison Fontaine             47  2019   \n",
       "247                Twerk         City Girls             48  2019   \n",
       "248                 Time                  NF            49  2019   \n",
       "249  Mixed Personalities          YNW Melly             50  2019   \n",
       "\n",
       "                                                lyrics  \n",
       "0    It's been a long day without you, my friend\\nA...  \n",
       "1    RGF productions\\nRemy Boyz, yah-ah\\n1738, ayy\\...  \n",
       "2    Whip, nae nae\\nWhip, whip, nae nae\\nWhip, nae ...  \n",
       "3    Yeaaah baby, 17\\n(RemyBoy Lifestyle)\\nAy, ay, ...  \n",
       "4    You used to call me on my\\nYou used to, you us...  \n",
       "..                                                 ...  \n",
       "245  Monsta's gon' tear it up\\nBardi\\nWoo, yeah\\nBi...  \n",
       "246  Ahhh\\nCardi!\\nTurn around, fuck it all the way...  \n",
       "247  (I want a slim, fine woman with some twerk wit...  \n",
       "248  Even if we both break down tonight\\nAnd you sa...  \n",
       "249  Because I am hard, you will not like me\\n\\nSay...  \n",
       "\n",
       "[250 rows x 6 columns]"
      ]
     },
     "execution_count": 44,
     "metadata": {},
     "output_type": "execute_result"
    }
   ],
   "source": [
    "df"
   ]
  }
 ],
 "metadata": {
  "kernelspec": {
   "display_name": "Python 3",
   "language": "python",
   "name": "python3"
  },
  "language_info": {
   "codemirror_mode": {
    "name": "ipython",
    "version": 3
   },
   "file_extension": ".py",
   "mimetype": "text/x-python",
   "name": "python",
   "nbconvert_exporter": "python",
   "pygments_lexer": "ipython3",
   "version": "3.7.3"
  }
 },
 "nbformat": 4,
 "nbformat_minor": 4
}
