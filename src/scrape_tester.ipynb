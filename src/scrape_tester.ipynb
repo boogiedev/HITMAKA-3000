{
 "cells": [
  {
   "cell_type": "code",
   "execution_count": 75,
   "metadata": {},
   "outputs": [
    {
     "name": "stdout",
     "output_type": "stream",
     "text": [
      "The autoreload extension is already loaded. To reload it, use:\n",
      "  %reload_ext autoreload\n"
     ]
    }
   ],
   "source": [
    "# Auto Reload\n",
    "%load_ext autoreload\n",
    "%autoreload 2"
   ]
  },
  {
   "cell_type": "code",
   "execution_count": 76,
   "metadata": {},
   "outputs": [],
   "source": [
    "# Import Modules\n",
    "import numpy as np\n",
    "import copy\n",
    "import pandas as pd\n",
    "import json\n",
    "import requests\n",
    "from bs4 import BeautifulSoup\n",
    "from pprint import pprint"
   ]
  },
  {
   "cell_type": "code",
   "execution_count": null,
   "metadata": {},
   "outputs": [],
   "source": [
    "# Import Custom Modules\n",
    "from helpers import *"
   ]
  },
  {
   "cell_type": "code",
   "execution_count": null,
   "metadata": {},
   "outputs": [],
   "source": [
    "get_extract_response('10 Bandz', 'Drake')"
   ]
  },
  {
   "cell_type": "code",
   "execution_count": 78,
   "metadata": {},
   "outputs": [],
   "source": [
    "# # 2019 Info\n",
    "# top_songs_2019 = get_top_songs(2019)\n",
    "\n",
    "# # 2018 Info\n",
    "# top_songs_2018 = get_top_songs(2018)\n",
    "\n",
    "# # 2017 Info\n",
    "# top_songs_2017 = get_top_songs(2017)\n",
    "\n",
    "# # 2016 Info\n",
    "# top_songs_2016 = get_top_songs(2016)\n",
    "\n",
    "# # 2015 Info\n",
    "# top_songs_2015 = get_top_songs(2015)\n",
    "\n",
    "# # Year list\n",
    "# years = [2015, 2016, 2017, 2018, 2019]\n",
    "# # List of top song tuples by year\n",
    "# top_songs_list = [top_songs_2015, top_songs_2016, top_songs_2017, top_songs_2018, top_songs_2019]"
   ]
  },
  {
   "cell_type": "code",
   "execution_count": 79,
   "metadata": {},
   "outputs": [],
   "source": [
    "# years = list(range(2000, 2020))\n",
    "# top_songs = [get_top_songs(year) for year in years]"
   ]
  },
  {
   "cell_type": "code",
   "execution_count": 80,
   "metadata": {},
   "outputs": [],
   "source": [
    "# # Create DataFrame\n",
    "# df = pd.DataFrame(\n",
    "#         columns=['song', 'artist', 'featured', 'rank', 'year'],\n",
    "# )"
   ]
  },
  {
   "cell_type": "code",
   "execution_count": 81,
   "metadata": {},
   "outputs": [],
   "source": [
    "# # Populate Dataframe\n",
    "# for year, info in zip(years, top_songs_list):\n",
    "#     x = pd.DataFrame(\n",
    "#         data=[[*info[x], year] for x in range(len(info))],\n",
    "#         columns=['song', 'artist', 'featured', 'rank', 'year'])\n",
    "#     df = df.append(x, ignore_index=True)\n"
   ]
  },
  {
   "cell_type": "code",
   "execution_count": 82,
   "metadata": {},
   "outputs": [],
   "source": [
    "# # Populate Dataframe\n",
    "# for year, info in zip(years, top_songs):\n",
    "#     x = pd.DataFrame(\n",
    "#         data=[[*info[x], year] for x in range(len(info))],\n",
    "#         columns=['song', 'artist', 'featured', 'rank', 'year'])\n",
    "#     df = df.append(x, ignore_index=True)\n"
   ]
  },
  {
   "cell_type": "code",
   "execution_count": 83,
   "metadata": {},
   "outputs": [
    {
     "data": {
      "text/html": [
       "<div>\n",
       "<style scoped>\n",
       "    .dataframe tbody tr th:only-of-type {\n",
       "        vertical-align: middle;\n",
       "    }\n",
       "\n",
       "    .dataframe tbody tr th {\n",
       "        vertical-align: top;\n",
       "    }\n",
       "\n",
       "    .dataframe thead th {\n",
       "        text-align: right;\n",
       "    }\n",
       "</style>\n",
       "<table border=\"1\" class=\"dataframe\">\n",
       "  <thead>\n",
       "    <tr style=\"text-align: right;\">\n",
       "      <th></th>\n",
       "      <th>song</th>\n",
       "      <th>artist</th>\n",
       "      <th>featured</th>\n",
       "      <th>rank</th>\n",
       "      <th>year</th>\n",
       "      <th>lyrics</th>\n",
       "      <th>lyrics_state</th>\n",
       "      <th>song_id</th>\n",
       "      <th>lyrics_owner_id</th>\n",
       "      <th>primary_artist_url</th>\n",
       "    </tr>\n",
       "  </thead>\n",
       "  <tbody>\n",
       "    <tr>\n",
       "      <th>0</th>\n",
       "      <td>Thrift Shop</td>\n",
       "      <td>Macklemore &amp; Ryan Lewis</td>\n",
       "      <td></td>\n",
       "      <td>1</td>\n",
       "      <td>2000</td>\n",
       "      <td>\"Hey, Macklemore, can we go thrift shopping?\"\\...</td>\n",
       "      <td>True</td>\n",
       "      <td>86538</td>\n",
       "      <td>3928</td>\n",
       "      <td>https://genius.com/artists/Macklemore-and-ryan...</td>\n",
       "    </tr>\n",
       "    <tr>\n",
       "      <th>1</th>\n",
       "      <td>Can't Hold Us</td>\n",
       "      <td>Macklemore &amp; Ryan Lewis</td>\n",
       "      <td></td>\n",
       "      <td>2</td>\n",
       "      <td>2000</td>\n",
       "      <td>Hey, hey, hey\\nGood to see you\\nCome on, dude,...</td>\n",
       "      <td>True</td>\n",
       "      <td>57234</td>\n",
       "      <td>37383</td>\n",
       "      <td>https://genius.com/artists/Macklemore-and-ryan...</td>\n",
       "    </tr>\n",
       "    <tr>\n",
       "      <th>2</th>\n",
       "      <td>Holy Grail</td>\n",
       "      <td>Jay Z</td>\n",
       "      <td></td>\n",
       "      <td>3</td>\n",
       "      <td>2000</td>\n",
       "      <td>You'd take the clothes off my back and I'd let...</td>\n",
       "      <td>True</td>\n",
       "      <td>177832</td>\n",
       "      <td>104344</td>\n",
       "      <td>https://genius.com/artists/Jay-z</td>\n",
       "    </tr>\n",
       "    <tr>\n",
       "      <th>3</th>\n",
       "      <td>Started From The Bottom</td>\n",
       "      <td>Drake</td>\n",
       "      <td></td>\n",
       "      <td>4</td>\n",
       "      <td>2000</td>\n",
       "      <td>Started…\\nZombie on the track\\n\\nStarted from ...</td>\n",
       "      <td>True</td>\n",
       "      <td>113898</td>\n",
       "      <td>103043</td>\n",
       "      <td>https://genius.com/artists/Drake</td>\n",
       "    </tr>\n",
       "    <tr>\n",
       "      <th>4</th>\n",
       "      <td>Feel This Moment</td>\n",
       "      <td>Pitbull</td>\n",
       "      <td></td>\n",
       "      <td>5</td>\n",
       "      <td>2000</td>\n",
       "      <td>Ask for money, and get advice\\nAsk for advice,...</td>\n",
       "      <td>True</td>\n",
       "      <td>115843</td>\n",
       "      <td>174558</td>\n",
       "      <td>https://genius.com/artists/Pitbull</td>\n",
       "    </tr>\n",
       "  </tbody>\n",
       "</table>\n",
       "</div>"
      ],
      "text/plain": [
       "                      song                    artist featured rank  year  \\\n",
       "0              Thrift Shop  Macklemore & Ryan Lewis              1  2000   \n",
       "1            Can't Hold Us  Macklemore & Ryan Lewis              2  2000   \n",
       "2               Holy Grail                    Jay Z              3  2000   \n",
       "3  Started From The Bottom                     Drake             4  2000   \n",
       "4         Feel This Moment                  Pitbull              5  2000   \n",
       "\n",
       "                                              lyrics  lyrics_state  song_id  \\\n",
       "0  \"Hey, Macklemore, can we go thrift shopping?\"\\...          True    86538   \n",
       "1  Hey, hey, hey\\nGood to see you\\nCome on, dude,...          True    57234   \n",
       "2  You'd take the clothes off my back and I'd let...          True   177832   \n",
       "3  Started…\\nZombie on the track\\n\\nStarted from ...          True   113898   \n",
       "4  Ask for money, and get advice\\nAsk for advice,...          True   115843   \n",
       "\n",
       "   lyrics_owner_id                                 primary_artist_url  \n",
       "0             3928  https://genius.com/artists/Macklemore-and-ryan...  \n",
       "1            37383  https://genius.com/artists/Macklemore-and-ryan...  \n",
       "2           104344                   https://genius.com/artists/Jay-z  \n",
       "3           103043                   https://genius.com/artists/Drake  \n",
       "4           174558                 https://genius.com/artists/Pitbull  "
      ]
     },
     "execution_count": 83,
     "metadata": {},
     "output_type": "execute_result"
    }
   ],
   "source": [
    "# df.info()\n",
    "df.head()"
   ]
  },
  {
   "cell_type": "code",
   "execution_count": null,
   "metadata": {},
   "outputs": [],
   "source": [
    "# responses, lyrics = [], []\n",
    "# for song, artist in zip(df['song'], df['artist']):\n",
    "#     res = \"\"\n",
    "#     try:\n",
    "#         response = get_extract_response(song, artist)\n",
    "#         if not response:\n",
    "#             response = get_extract_response(song, '')\n",
    "#         res = scrape_song_lyrics_from_url(response)\n",
    "#     except:\n",
    "#         print(f\"Something happened with {song}: {artist}\")\n",
    "#         pass\n",
    "#     responses.append(response)\n",
    "#     lyrics.append(res)"
   ]
  },
  {
   "cell_type": "code",
   "execution_count": null,
   "metadata": {},
   "outputs": [],
   "source": [
    "# # len(responses), len(lyrics)\n",
    "# lyric_state_err = []\n",
    "# song_id_err = []\n",
    "# lyric_owner_id_err = []\n",
    "# prime_art_url_err = []\n",
    "\n",
    "# for i in range(len(responses)):\n",
    "#     err = -1\n",
    "#     try:\n",
    "#         for info in ['lyrics_state', 'id', 'lyrics_owner_id', 'primary_artist']:\n",
    "#             responses[i]['result'][info]\n",
    "#     except:\n",
    "#         d_map = dict(zip(['lyrics_state', 'id', 'lyrics_owner_id', 'primary_artist'], [lyric_state_err, song_id_err, lyric_owner_id_err, prime_art_url_err]))\n",
    "#         print(f\"Error at {i} {info}\")\n",
    "#         d_map[info].append(i)\n",
    "        \n",
    "# for x in [lyric_state_err, song_id_err, lyric_owner_id_err, prime_art_url_err]:\n",
    "#     print(x)\n",
    "    \n",
    "responses[0]['result']\n",
    "# for x in range(len(responses)):\n",
    "#     try:\n",
    "#         responses[x]['result']['primary_artist']\n",
    "#     except:\n",
    "#         print(x)"
   ]
  },
  {
   "cell_type": "code",
   "execution_count": null,
   "metadata": {},
   "outputs": [],
   "source": [
    "# # Create Series for each feature\n",
    "# lyrics_state = pd.Series([response['result']['lyrics_state'] == 'complete' if 'lyrics_state' in response['result'] else True for response in responses]) \n",
    "# song_id =  pd.Series([response['result']['id'] for response in responses])\n",
    "# lyrics_owner_id = pd.Series([response['result']['lyrics_owner_id'] if 'lyrics_owner_id' in response['result'] else -1 for response in responses])\n",
    "# primary_artist_url = pd.Series([response['result']['primary_artist']['url'] if 'lyrics_owner_id' in response['result'] else '' for response in responses])"
   ]
  },
  {
   "cell_type": "code",
   "execution_count": null,
   "metadata": {},
   "outputs": [],
   "source": [
    "# Create More Features for Each Song ['lyrics_state', 'id', 'lyric_owner_id']\n",
    "\n",
    "# Match Lyrics To Song\n",
    "df['lyrics'] = pd.Series(lyrics)\n",
    "\n",
    "# Match Lyric State To Song\n",
    "df['lyrics_state'] = pd.Series(lyrics_state)\n",
    "\n",
    "# Match song id To Song\n",
    "df['song_id'] = pd.Series(song_id)\n",
    "\n",
    "# Match lyric owner To Song\n",
    "df['lyrics_owner_id'] = pd.Series(lyrics_owner_id)\n",
    "\n",
    "# Match Artist Url To Song\n",
    "df['primary_artist_url'] = pd.Series(primary_artist_url)\n",
    "\n"
   ]
  },
  {
   "cell_type": "code",
   "execution_count": null,
   "metadata": {},
   "outputs": [],
   "source": [
    "df"
   ]
  },
  {
   "cell_type": "code",
   "execution_count": null,
   "metadata": {},
   "outputs": [],
   "source": [
    "# Fix F**kin Problems by A$AP Rocky\n",
    "df['lyrics'].fillna(problem_lyrics, inplace=True)\n",
    "# df[df['lyrics'].isna()]"
   ]
  },
  {
   "cell_type": "code",
   "execution_count": null,
   "metadata": {},
   "outputs": [],
   "source": [
    "# df.to_csv('data.csv')"
   ]
  },
  {
   "cell_type": "code",
   "execution_count": null,
   "metadata": {},
   "outputs": [],
   "source": [
    "# df.to_csv('all_data.csv')"
   ]
  },
  {
   "cell_type": "code",
   "execution_count": null,
   "metadata": {},
   "outputs": [],
   "source": []
  }
 ],
 "metadata": {
  "kernelspec": {
   "display_name": "Python 3",
   "language": "python",
   "name": "python3"
  },
  "language_info": {
   "codemirror_mode": {
    "name": "ipython",
    "version": 3
   },
   "file_extension": ".py",
   "mimetype": "text/x-python",
   "name": "python",
   "nbconvert_exporter": "python",
   "pygments_lexer": "ipython3",
   "version": "3.7.3"
  }
 },
 "nbformat": 4,
 "nbformat_minor": 4
}
