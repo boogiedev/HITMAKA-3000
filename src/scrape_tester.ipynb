{
 "cells": [
  {
   "cell_type": "code",
   "execution_count": 1,
   "metadata": {},
   "outputs": [],
   "source": [
    "# Auto Reload\n",
    "%load_ext autoreload\n",
    "%autoreload 2"
   ]
  },
  {
   "cell_type": "code",
   "execution_count": 2,
   "metadata": {},
   "outputs": [],
   "source": [
    "# Import Modules\n",
    "import numpy as np\n",
    "import copy\n",
    "import pandas as pd\n",
    "import json\n",
    "import requests\n",
    "from bs4 import BeautifulSoup\n",
    "from pprint import pprint"
   ]
  },
  {
   "cell_type": "code",
   "execution_count": 3,
   "metadata": {},
   "outputs": [],
   "source": [
    "# Import Custom Modules\n",
    "from helpers import *"
   ]
  },
  {
   "cell_type": "code",
   "execution_count": 4,
   "metadata": {},
   "outputs": [
    {
     "data": {
      "text/plain": [
       "{'highlights': [],\n",
       " 'index': 'song',\n",
       " 'type': 'song',\n",
       " 'result': {'_type': 'song',\n",
       "  'annotation_count': 21,\n",
       "  'api_path': '/songs/703738',\n",
       "  'full_title': '10 Bands by\\xa0Drake',\n",
       "  'header_image_thumbnail_url': 'https://images.genius.com/c9f190a5aec3076c9ca9d65cedfae823.300x300x1.jpg',\n",
       "  'header_image_url': 'https://images.genius.com/c9f190a5aec3076c9ca9d65cedfae823.1000x1000x1.jpg',\n",
       "  'id': 703738,\n",
       "  'instrumental': False,\n",
       "  'lyrics_owner_id': 94012,\n",
       "  'lyrics_state': 'complete',\n",
       "  'lyrics_updated_at': 1578191581,\n",
       "  'path': '/Drake-10-bands-lyrics',\n",
       "  'pyongs_count': 486,\n",
       "  'song_art_image_thumbnail_url': 'https://images.genius.com/99734d82d6b4bb31b8dfbd99c947fa9e.300x300x1.jpg',\n",
       "  'song_art_image_url': 'https://images.genius.com/99734d82d6b4bb31b8dfbd99c947fa9e.500x500x1.jpg',\n",
       "  'stats': {'unreviewed_annotations': 0, 'hot': False, 'pageviews': 1394935},\n",
       "  'title': '10 Bands',\n",
       "  'title_with_featured': '10 Bands',\n",
       "  'updated_by_human_at': 1581779237,\n",
       "  'url': 'https://genius.com/Drake-10-bands-lyrics',\n",
       "  'primary_artist': {'_type': 'artist',\n",
       "   'api_path': '/artists/130',\n",
       "   'header_image_url': 'https://images.genius.com/df1fb638e8955739be4ea33269d4ab3b.1000x513x10.gif',\n",
       "   'id': 130,\n",
       "   'image_url': 'https://images.genius.com/bc985312781041952f9a11b657d7d0b8.905x905x1.jpg',\n",
       "   'index_character': 'd',\n",
       "   'is_meme_verified': False,\n",
       "   'is_verified': False,\n",
       "   'name': 'Drake',\n",
       "   'slug': 'Drake',\n",
       "   'url': 'https://genius.com/artists/Drake'}}}"
      ]
     },
     "execution_count": 4,
     "metadata": {},
     "output_type": "execute_result"
    }
   ],
   "source": [
    "get_extract_response('10 Bandz', 'Drake')"
   ]
  },
  {
   "cell_type": "code",
   "execution_count": 5,
   "metadata": {},
   "outputs": [],
   "source": [
    "# # 2019 Info\n",
    "# top_songs_2019 = get_top_songs(2019)\n",
    "\n",
    "# # 2018 Info\n",
    "# top_songs_2018 = get_top_songs(2018)\n",
    "\n",
    "# # 2017 Info\n",
    "# top_songs_2017 = get_top_songs(2017)\n",
    "\n",
    "# # 2016 Info\n",
    "# top_songs_2016 = get_top_songs(2016)\n",
    "\n",
    "# # 2015 Info\n",
    "# top_songs_2015 = get_top_songs(2015)\n",
    "\n",
    "# # Year list\n",
    "# years = [2015, 2016, 2017, 2018, 2019]\n",
    "# # List of top song tuples by year\n",
    "# top_songs_list = [top_songs_2015, top_songs_2016, top_songs_2017, top_songs_2018, top_songs_2019]"
   ]
  },
  {
   "cell_type": "code",
   "execution_count": 6,
   "metadata": {},
   "outputs": [],
   "source": [
    "# years = list(range(2000, 2020))\n",
    "# top_songs = [get_top_songs(year) for year in years]"
   ]
  },
  {
   "cell_type": "code",
   "execution_count": 7,
   "metadata": {},
   "outputs": [],
   "source": [
    "# # Create DataFrame\n",
    "# df = pd.DataFrame(\n",
    "#         columns=['song', 'artist', 'featured', 'rank', 'year'],\n",
    "# )"
   ]
  },
  {
   "cell_type": "code",
   "execution_count": 8,
   "metadata": {},
   "outputs": [],
   "source": [
    "# # Populate Dataframe\n",
    "# for year, info in zip(years, top_songs_list):\n",
    "#     x = pd.DataFrame(\n",
    "#         data=[[*info[x], year] for x in range(len(info))],\n",
    "#         columns=['song', 'artist', 'featured', 'rank', 'year'])\n",
    "#     df = df.append(x, ignore_index=True)\n"
   ]
  },
  {
   "cell_type": "code",
   "execution_count": 9,
   "metadata": {},
   "outputs": [],
   "source": [
    "# # Populate Dataframe\n",
    "# for year, info in zip(years, top_songs):\n",
    "#     x = pd.DataFrame(\n",
    "#         data=[[*info[x], year] for x in range(len(info))],\n",
    "#         columns=['song', 'artist', 'featured', 'rank', 'year'])\n",
    "#     df = df.append(x, ignore_index=True)\n"
   ]
  },
  {
   "cell_type": "code",
   "execution_count": 10,
   "metadata": {},
   "outputs": [
    {
     "ename": "NameError",
     "evalue": "name 'df' is not defined",
     "output_type": "error",
     "traceback": [
      "\u001b[1;31m---------------------------------------------------------------------------\u001b[0m",
      "\u001b[1;31mNameError\u001b[0m                                 Traceback (most recent call last)",
      "\u001b[1;32m<ipython-input-10-091f2f86ec23>\u001b[0m in \u001b[0;36m<module>\u001b[1;34m\u001b[0m\n\u001b[0;32m      1\u001b[0m \u001b[1;31m# df.info()\u001b[0m\u001b[1;33m\u001b[0m\u001b[1;33m\u001b[0m\u001b[1;33m\u001b[0m\u001b[0m\n\u001b[1;32m----> 2\u001b[1;33m \u001b[0mdf\u001b[0m\u001b[1;33m.\u001b[0m\u001b[0mhead\u001b[0m\u001b[1;33m(\u001b[0m\u001b[1;33m)\u001b[0m\u001b[1;33m\u001b[0m\u001b[1;33m\u001b[0m\u001b[0m\n\u001b[0m",
      "\u001b[1;31mNameError\u001b[0m: name 'df' is not defined"
     ]
    }
   ],
   "source": [
    "# df.info()\n",
    "df.head()"
   ]
  },
  {
   "cell_type": "code",
   "execution_count": null,
   "metadata": {},
   "outputs": [],
   "source": [
    "# responses, lyrics = [], []\n",
    "# for song, artist in zip(df['song'], df['artist']):\n",
    "#     res = \"\"\n",
    "#     try:\n",
    "#         response = get_extract_response(song, artist)\n",
    "#         if not response:\n",
    "#             response = get_extract_response(song, '')\n",
    "#         res = scrape_song_lyrics_from_url(response)\n",
    "#     except:\n",
    "#         print(f\"Something happened with {song}: {artist}\")\n",
    "#         pass\n",
    "#     responses.append(response)\n",
    "#     lyrics.append(res)"
   ]
  },
  {
   "cell_type": "code",
   "execution_count": null,
   "metadata": {},
   "outputs": [],
   "source": [
    "# # len(responses), len(lyrics)\n",
    "# lyric_state_err = []\n",
    "# song_id_err = []\n",
    "# lyric_owner_id_err = []\n",
    "# prime_art_url_err = []\n",
    "\n",
    "# for i in range(len(responses)):\n",
    "#     err = -1\n",
    "#     try:\n",
    "#         for info in ['lyrics_state', 'id', 'lyrics_owner_id', 'primary_artist']:\n",
    "#             responses[i]['result'][info]\n",
    "#     except:\n",
    "#         d_map = dict(zip(['lyrics_state', 'id', 'lyrics_owner_id', 'primary_artist'], [lyric_state_err, song_id_err, lyric_owner_id_err, prime_art_url_err]))\n",
    "#         print(f\"Error at {i} {info}\")\n",
    "#         d_map[info].append(i)\n",
    "        \n",
    "# for x in [lyric_state_err, song_id_err, lyric_owner_id_err, prime_art_url_err]:\n",
    "#     print(x)\n",
    "    \n",
    "responses[0]['result']\n",
    "# for x in range(len(responses)):\n",
    "#     try:\n",
    "#         responses[x]['result']['primary_artist']\n",
    "#     except:\n",
    "#         print(x)"
   ]
  },
  {
   "cell_type": "code",
   "execution_count": null,
   "metadata": {},
   "outputs": [],
   "source": [
    "# # Create Series for each feature\n",
    "# lyrics_state = pd.Series([response['result']['lyrics_state'] == 'complete' if 'lyrics_state' in response['result'] else True for response in responses]) \n",
    "# song_id =  pd.Series([response['result']['id'] for response in responses])\n",
    "# lyrics_owner_id = pd.Series([response['result']['lyrics_owner_id'] if 'lyrics_owner_id' in response['result'] else -1 for response in responses])\n",
    "# primary_artist_url = pd.Series([response['result']['primary_artist']['url'] if 'lyrics_owner_id' in response['result'] else '' for response in responses])"
   ]
  },
  {
   "cell_type": "code",
   "execution_count": null,
   "metadata": {},
   "outputs": [],
   "source": [
    "# Create More Features for Each Song ['lyrics_state', 'id', 'lyric_owner_id']\n",
    "\n",
    "# Match Lyrics To Song\n",
    "df['lyrics'] = pd.Series(lyrics)\n",
    "\n",
    "# Match Lyric State To Song\n",
    "df['lyrics_state'] = pd.Series(lyrics_state)\n",
    "\n",
    "# Match song id To Song\n",
    "df['song_id'] = pd.Series(song_id)\n",
    "\n",
    "# Match lyric owner To Song\n",
    "df['lyrics_owner_id'] = pd.Series(lyrics_owner_id)\n",
    "\n",
    "# Match Artist Url To Song\n",
    "df['primary_artist_url'] = pd.Series(primary_artist_url)\n",
    "\n"
   ]
  },
  {
   "cell_type": "code",
   "execution_count": null,
   "metadata": {},
   "outputs": [],
   "source": [
    "df"
   ]
  },
  {
   "cell_type": "code",
   "execution_count": null,
   "metadata": {},
   "outputs": [],
   "source": [
    "# Fix F**kin Problems by A$AP Rocky\n",
    "df['lyrics'].fillna(problem_lyrics, inplace=True)\n",
    "# df[df['lyrics'].isna()]"
   ]
  },
  {
   "cell_type": "code",
   "execution_count": null,
   "metadata": {},
   "outputs": [],
   "source": [
    "# df.to_csv('data.csv')"
   ]
  },
  {
   "cell_type": "code",
   "execution_count": null,
   "metadata": {},
   "outputs": [],
   "source": [
    "# df.to_csv('all_data.csv')"
   ]
  },
  {
   "cell_type": "code",
   "execution_count": null,
   "metadata": {},
   "outputs": [],
   "source": []
  }
 ],
 "metadata": {
  "kernelspec": {
   "display_name": "Python 3",
   "language": "python",
   "name": "python3"
  },
  "language_info": {
   "codemirror_mode": {
    "name": "ipython",
    "version": 3
   },
   "file_extension": ".py",
   "mimetype": "text/x-python",
   "name": "python",
   "nbconvert_exporter": "python",
   "pygments_lexer": "ipython3",
   "version": "3.7.3"
  }
 },
 "nbformat": 4,
 "nbformat_minor": 4
}
