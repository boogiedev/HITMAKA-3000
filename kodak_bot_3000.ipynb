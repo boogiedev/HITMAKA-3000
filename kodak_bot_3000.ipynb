{
 "cells": [
  {
   "cell_type": "code",
   "execution_count": 1,
   "metadata": {},
   "outputs": [],
   "source": [
    "# Auto Reload\n",
    "%load_ext autoreload\n",
    "%autoreload 2"
   ]
  },
  {
   "cell_type": "code",
   "execution_count": 2,
   "metadata": {},
   "outputs": [
    {
     "name": "stderr",
     "output_type": "stream",
     "text": [
      "[nltk_data] Downloading package punkt to\n",
      "[nltk_data]     C:\\Users\\wesle\\AppData\\Roaming\\nltk_data...\n",
      "[nltk_data]   Package punkt is already up-to-date!\n",
      "[nltk_data] Downloading package stopwords to\n",
      "[nltk_data]     C:\\Users\\wesle\\AppData\\Roaming\\nltk_data...\n",
      "[nltk_data]   Package stopwords is already up-to-date!\n",
      "[nltk_data] Downloading package wordnet to\n",
      "[nltk_data]     C:\\Users\\wesle\\AppData\\Roaming\\nltk_data...\n",
      "[nltk_data]   Package wordnet is already up-to-date!\n",
      "[nltk_data] Downloading package tagsets to\n",
      "[nltk_data]     C:\\Users\\wesle\\AppData\\Roaming\\nltk_data...\n",
      "[nltk_data]   Package tagsets is already up-to-date!\n"
     ]
    }
   ],
   "source": [
    "# Import Modules\n",
    "import csv\n",
    "from collections import Counter\n",
    "import numpy as np\n",
    "import pandas as pd\n",
    "import matplotlib.pyplot as plt\n",
    "from bs4 import BeautifulSoup\n",
    "import json\n",
    "from pprint import pprint\n",
    "import string\n",
    "from sklearn.feature_extraction.text import TfidfVectorizer\n",
    "from sklearn.feature_extraction.text import CountVectorizer\n",
    "from math import log\n",
    "import re\n",
    "from gensim import corpora\n",
    "from gensim.models.doc2vec import TaggedDocument\n",
    "from gensim.models.doc2vec import Doc2Vec\n",
    "from urllib.parse import urljoin\n",
    "from urllib.parse import urlparse\n",
    "\n",
    "# NLTK Modules\n",
    "import nltk\n",
    "nltk.download('punkt')\n",
    "nltk.download('stopwords')\n",
    "nltk.download('wordnet')\n",
    "nltk.download('tagsets')\n",
    "from nltk import sent_tokenize\n",
    "from nltk.stem.porter import PorterStemmer\n",
    "from nltk.tokenize import word_tokenize\n",
    "from nltk.stem.snowball import SnowballStemmer\n",
    "from nltk.stem.wordnet import WordNetLemmatizer\n",
    "from nltk.corpus import stopwords\n",
    "from nltk import chunk\n",
    "from nltk.util import ngrams\n",
    "\n",
    "# Import Custom Modules\n",
    "from src.data_cleaner import *\n",
    "from src.dummy_words import *"
   ]
  },
  {
   "cell_type": "code",
   "execution_count": 3,
   "metadata": {},
   "outputs": [],
   "source": [
    "# Use lyricsgenius module\n",
    "import lyricsgenius as genius\n",
    "# Import Credentials\n",
    "from src.credentials.keys import *"
   ]
  },
  {
   "cell_type": "markdown",
   "metadata": {},
   "source": [
    "# Scrape web to get Kodak Black lyrics"
   ]
  },
  {
   "cell_type": "code",
   "execution_count": 4,
   "metadata": {},
   "outputs": [],
   "source": [
    "# # Set Target Artist\n",
    "# trg_artist = 'Kodak Black'\n",
    "# # Create API Instance\n",
    "# api = genius.Genius(client_token)\n",
    "# # Search Artist Information\n",
    "# artist = api.search_artist(trg_artist)"
   ]
  },
  {
   "cell_type": "code",
   "execution_count": 5,
   "metadata": {},
   "outputs": [],
   "source": [
    "# Save Lyrics from Artist\n",
    "# aux = artist.save_lyrics(filename='lyrics.json', overwrite=True, verbose=True)"
   ]
  },
  {
   "cell_type": "code",
   "execution_count": 6,
   "metadata": {},
   "outputs": [],
   "source": [
    "# Read in recently created JSON\n",
    "songs = None\n",
    "with open('data/lyrics.json') as jsonfile:\n",
    "    data = json.load(jsonfile)\n",
    "    songs = data['songs']"
   ]
  },
  {
   "cell_type": "code",
   "execution_count": 7,
   "metadata": {},
   "outputs": [
    {
     "data": {
      "text/plain": [
       "'[Intro]\\nGlee\\nSouthside\\nAyy, lil\\' Metro on that beat\\n\\n[Chorus]\\nLil\\' Kodak, they don\\'t like to see you winnin\\'\\nThey wanna see you in the penitentiary\\nI need me a lil\\' baby who gon\\' listen\\nGirl, I don\\'t wanna be the one you iggin\\'\\nMy mama told me, \"Boy, make good decisions\"\\nRight now I gotta keep a tun'"
      ]
     },
     "execution_count": 7,
     "metadata": {},
     "output_type": "execute_result"
    }
   ],
   "source": [
    "# Get Lyrics from each song\n",
    "lyrics = [song['lyrics'] for song in songs]\n",
    "\n",
    "# Taking a look at what a single song looks like (truncated)\n",
    "lyrics[0][:300]"
   ]
  },
  {
   "cell_type": "markdown",
   "metadata": {},
   "source": [
    "# Cleaning Lyrics\n",
    "\n",
    "> Remove headers from each lyric set and standardize casing"
   ]
  },
  {
   "cell_type": "code",
   "execution_count": 8,
   "metadata": {},
   "outputs": [
    {
     "data": {
      "text/plain": [
       "'\\nglee\\nsouthside\\nayy, lil\\' metro on that beat\\n\\nlil\\' kodak, they don\\'t like to see you winnin\\'\\nthey wanna see you in the penitentiary\\ni need me a lil\\' baby who gon\\' listen\\ngirl, i don\\'t wanna be the one you iggin\\'\\nmy mama told me, \"boy, make good decisions\"\\nright now i gotta keep a tunnel vision\\ni nee'"
      ]
     },
     "execution_count": 8,
     "metadata": {},
     "output_type": "execute_result"
    }
   ],
   "source": [
    "# Use custom function to remove headers from each set of lyrics\n",
    "clean_lyrics = [remove_headers(lyric).lower() for lyric in lyrics]\n",
    "clean_lyrics[0][:300]"
   ]
  },
  {
   "cell_type": "markdown",
   "metadata": {},
   "source": [
    "> Remove new-line breaks and escapes"
   ]
  },
  {
   "cell_type": "code",
   "execution_count": 9,
   "metadata": {},
   "outputs": [
    {
     "data": {
      "text/plain": [
       "' glee southside ayy, lil metro on that beat  lil kodak, they dont like to see you winnin they wanna see you in the penitentiary i need me a lil baby who gon listen girl, i dont wanna be the one you iggin my mama told me, \"boy, make good decisions\" right now i gotta keep a tunnel vision i need me a lil baby who gon listen girl, i dont wanna be the one you iggin lil kodak, they dont like to see you winnin they wanna see you in the penitentiary i need me a lil baby who gon listen girl, i dont wanna be the one you iggin my mama told me, \"boy, make good decisions\" right now i gotta keep a tunnel vision they sendin all my homies on a mission and i aint tryna miss out on these millions  i jumped up out the wraith, kodak bought a wraith i get any girl i want, any girl i want she want me to save the day, but i aint got a cape she wanna see me every day, she wanna be my bae that money make me cum, it make me fornicate, uh im the shit, i need some toilet pap-er follow my player rules, then we gon be okay on the real i need a bih who gon cooperate  lil kodak, they dont like to see you winnin they wanna see you in the penitentiary i need me a lil baby who gon listen girl, i dont wanna be the one you iggin my mama told me, \"boy, make good decisions\" right now i gotta keep a tunnel vision i need me a lil baby who gon listen girl, i dont wanna be the one you iggin lil kodak, they dont like to see you winnin they wanna see you in the penitentiary i need me a lil baby who gon listen girl, i dont wanna be the one you iggin my mama told me, \"boy, make good decisions\" right now i gotta keep a tunnel vision they sendin all my homies on a mission and i aint tryna miss out on these millions  i told you niggas im gon be that fuckin nigga everything be good til you doin better than em they wanna see a nigga shot or see me in the system all you niggas out here poison like snake venom codeine in my liver, rockin balenciaga denim im booted even when im sober, i dont need a jigga they sendin all my niggas on a fuckin journey i told that baby to come over cause im fuckin horny my mama told me, \"kill these niggas, son, keep it goin!\" im thug to the bone, but im still her baby boy lil kodak, boy, they hate to see you in a foreign they miss when you was in that yota kickin doors  lil kodak, they dont like to see you winnin they wanna see you in the penitentiary i need me a lil baby who gon listen girl, i dont wanna be the one you iggin my mama told me, \"boy, make good decisions\" right now i gotta keep a tunnel vision i need me a lil baby who gon listen girl, i dont wanna be the one you iggin lil kodak, they dont like to see you winnin they wanna see you in the penitentiary i need me a lil baby who gon listen girl, i dont wanna be the one you iggin my mama told me, \"boy, make good decisions\" right now i gotta keep a tunnel vision they sendin all my homies on a mission and i aint tryna miss out on these millions'"
      ]
     },
     "execution_count": 9,
     "metadata": {},
     "output_type": "execute_result"
    }
   ],
   "source": [
    "# Replace new-line breaks and escape characters\n",
    "clean_lyrics = [lyric.replace('\\n', ' ') for lyric in clean_lyrics]\n",
    "clean_lyrics = [lyric.replace('\\'', '') for lyric in clean_lyrics]\n",
    "\n",
    "clean_lyrics[0]"
   ]
  },
  {
   "cell_type": "markdown",
   "metadata": {},
   "source": [
    "> Tokenize words manually (NLTK proven uneffective)"
   ]
  },
  {
   "cell_type": "code",
   "execution_count": 23,
   "metadata": {},
   "outputs": [
    {
     "data": {
      "text/plain": [
       "['glee',\n",
       " 'southside',\n",
       " 'ayy',\n",
       " 'lil',\n",
       " 'metro',\n",
       " 'on',\n",
       " 'that',\n",
       " 'beat',\n",
       " 'lil',\n",
       " 'kodak']"
      ]
     },
     "execution_count": 23,
     "metadata": {},
     "output_type": "execute_result"
    }
   ],
   "source": [
    "# Tokenize Words\n",
    "tokens = [lyric.split() for lyric in clean_lyrics]\n",
    "tokens = [[re.sub(r\"(@[A-Za-z0-9]+)|([^0-9A-Za-z \\t])|(\\w+:\\/\\/\\S+)|^rt|http.+?\", \"\", elem) for elem in token] for token in tokens]\n",
    "tokens = [[word for word in token if word] for token in tokens]\n",
    "tokens[0][:10]"
   ]
  },
  {
   "cell_type": "markdown",
   "metadata": {},
   "source": [
    "> Remove Stop Words"
   ]
  },
  {
   "cell_type": "code",
   "execution_count": 21,
   "metadata": {},
   "outputs": [
    {
     "data": {
      "text/plain": [
       "['glee',\n",
       " 'southside',\n",
       " 'ayy',\n",
       " 'lil',\n",
       " 'metro',\n",
       " 'beat',\n",
       " 'lil',\n",
       " 'kodak',\n",
       " 'dont',\n",
       " 'like']"
      ]
     },
     "execution_count": 21,
     "metadata": {},
     "output_type": "execute_result"
    }
   ],
   "source": [
    "# Remove Stop Words\n",
    "stop_words = set(stopwords.words('english'))\n",
    "tokens = [[word for word in token if word not in stop_words] for token in tokens] \n",
    "tokens[0][:10]"
   ]
  },
  {
   "cell_type": "code",
   "execution_count": null,
   "metadata": {},
   "outputs": [],
   "source": [
    "# # remove punctuation from each word\n",
    "# import string\n",
    "# table = str.maketrans('', '', string.punctuation)\n",
    "# stripped = [w.translate(table) for w in tokens]\n",
    "# # remove remaining tokens that are not alphabetic\n",
    "# words = [word for word in stripped if word.isalpha()]\n",
    "# # filter out stop words\n",
    "# from nltk.corpus import stopwords\n",
    "# stop_words = set(stopwords.words('english'))\n",
    "# words = [w for w in words if not w in stop_words]\n",
    "# print(words[:100])"
   ]
  },
  {
   "cell_type": "code",
   "execution_count": null,
   "metadata": {},
   "outputs": [],
   "source": [
    "sample = clean_lyrics[0]\n",
    "wnl = WordNetLemmatizer()\n",
    "# wnl.lemmatize(sample)\n",
    "\n"
   ]
  },
  {
   "cell_type": "markdown",
   "metadata": {},
   "source": [
    "# DOC2VEC"
   ]
  },
  {
   "cell_type": "code",
   "execution_count": null,
   "metadata": {},
   "outputs": [],
   "source": [
    "# Create Doc2Vec Model\n",
    "dv_model = Doc2Vec(\n",
    "    alpha=0.025,\n",
    "    min_alpha=0.025,\n",
    "    workers=15, \n",
    "    min_count=2,\n",
    "    window=10,\n",
    "    size=300,\n",
    "    epochs=20,\n",
    "    sample=0.001,\n",
    "    negative=5\n",
    ")"
   ]
  },
  {
   "cell_type": "markdown",
   "metadata": {},
   "source": [
    "- ***alpha*** is the initial learning rate. A very intuitive explanation for learning rate can be found here. Essentially, the learning rate is, as stated in the link, \"how quickly a network abandons old beliefs for new ones.\"\n",
    "- ***min_alpha*** is exactly what it sounds like, the minimum alpha can be, which we reduce after every epoch.\n",
    "- ***workers*** is the number of threads used to train the model.\n",
    "- ***min_count*** specifies a term frequency that must be met for a word to be considered by the model.\n",
    "- ***window*** is how many words in front and behind the input word should be considered when determining context.\n",
    "- ***size*** is the number of dimensions. Unlike most numerical datasets that have 2 dimensions, text data can have hundreds or even more.\n",
    "- ***iter*** is the number of iterations, the number of times the training set passes through the algorithm.\n",
    "- ***sample*** is the downsampling rate. Words representing more than this will be eligible for downsampling.\n",
    "- ***negative*** is the negative sampling rate. 0 means update all weights in the output layer of the neural network."
   ]
  }
 ],
 "metadata": {
  "kernelspec": {
   "display_name": "Python 3",
   "language": "python",
   "name": "python3"
  },
  "language_info": {
   "codemirror_mode": {
    "name": "ipython",
    "version": 3
   },
   "file_extension": ".py",
   "mimetype": "text/x-python",
   "name": "python",
   "nbconvert_exporter": "python",
   "pygments_lexer": "ipython3",
   "version": "3.7.3"
  }
 },
 "nbformat": 4,
 "nbformat_minor": 4
}
